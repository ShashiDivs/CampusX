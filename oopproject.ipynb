{
 "cells": [
  {
   "cell_type": "code",
   "execution_count": null,
   "metadata": {},
   "outputs": [],
   "source": [
    "import nlpcloud"
   ]
  },
  {
   "cell_type": "code",
   "execution_count": 1,
   "metadata": {},
   "outputs": [
    {
     "ename": "NameError",
     "evalue": "name 'nlpcloud' is not defined",
     "output_type": "error",
     "traceback": [
      "\u001b[0;31m---------------------------------------------------------------------------\u001b[0m",
      "\u001b[0;31mNameError\u001b[0m                                 Traceback (most recent call last)",
      "Cell \u001b[0;32mIn[1], line 1\u001b[0m\n\u001b[0;32m----> 1\u001b[0m client \u001b[38;5;241m=\u001b[39m \u001b[43mnlpcloud\u001b[49m\u001b[38;5;241m.\u001b[39mClient(\u001b[38;5;124m\"\u001b[39m\u001b[38;5;124mfinetuned-gpt-neox-20b\u001b[39m\u001b[38;5;124m\"\u001b[39m, \u001b[38;5;124m\"\u001b[39m\u001b[38;5;124m2b58d7fb9af09e617ee525e78c7766b6d8c5bb61\u001b[39m\u001b[38;5;124m\"\u001b[39m, gpu\u001b[38;5;241m=\u001b[39m\u001b[38;5;28;01mTrue\u001b[39;00m, lang\u001b[38;5;241m=\u001b[39m\u001b[38;5;124m\"\u001b[39m\u001b[38;5;124men\u001b[39m\u001b[38;5;124m\"\u001b[39m)\n\u001b[1;32m      2\u001b[0m client\u001b[38;5;241m.\u001b[39mentities(\u001b[38;5;124m\"\"\"\u001b[39m\u001b[38;5;124mJohn Doe started learning Javascript when he was 15 years old. After a couple of years he switched to Python and starter learning low level programming. He is now a Go expert at Google.\u001b[39m\u001b[38;5;124m\"\"\"\u001b[39m, searched_entity\u001b[38;5;241m=\u001b[39m\u001b[38;5;124m\"\u001b[39m\u001b[38;5;124mprogramming languages\u001b[39m\u001b[38;5;124m\"\u001b[39m)\n",
      "\u001b[0;31mNameError\u001b[0m: name 'nlpcloud' is not defined"
     ]
    }
   ],
   "source": [
    "client = nlpcloud.Client(\"finetuned-gpt-neox-20b\", \"2b58d7fb9af09e617ee525e78c7766b6d8c5bb61\", gpu=True, lang=\"en\")\n",
    "client.entities(\"\"\"John Doe started learning Javascript when he was 15 years old. After a couple of years he switched to Python and starter learning low level programming. He is now a Go expert at Google.\"\"\", searched_entity=\"programming languages\")"
   ]
  },
  {
   "cell_type": "code",
   "execution_count": 7,
   "metadata": {},
   "outputs": [
    {
     "data": {
      "text/plain": [
       "{'scored_labels': [{'label': 'sadness', 'score': 0.0001777907891664654},\n",
       "  {'label': 'joy', 'score': 0.9987751841545105},\n",
       "  {'label': 'love', 'score': 0.00040877042920328677},\n",
       "  {'label': 'anger', 'score': 0.00012217740004416555},\n",
       "  {'label': 'fear', 'score': 0.00011809932038886473},\n",
       "  {'label': 'surprise', 'score': 0.0003979839675594121}]}"
      ]
     },
     "execution_count": 7,
     "metadata": {},
     "output_type": "execute_result"
    }
   ],
   "source": [
    "client = nlpcloud.Client(\"distilbert-base-uncased-emotion\", \"2b58d7fb9af09e617ee525e78c7766b6d8c5bb61\", gpu=False, lang=\"en\")\n",
    "client.sentiment(\"Look what's just come on the market in #ValThorens! A recently renovated, charming 6 bed duplex apartment in the heart of the resort with superb views!\")"
   ]
  },
  {
   "cell_type": "code",
   "execution_count": 8,
   "metadata": {},
   "outputs": [
    {
     "data": {
      "text/plain": [
       "{'languages': [{'fr': 0.9999950004622586}]}"
      ]
     },
     "execution_count": 8,
     "metadata": {},
     "output_type": "execute_result"
    }
   ],
   "source": [
    "client = nlpcloud.Client(\"python-langdetect\", \"2b58d7fb9af09e617ee525e78c7766b6d8c5bb61\")\n",
    "client.langdetection(\"\"\"Et il parle aussi un peu français.\"\"\")"
   ]
  },
  {
   "cell_type": "markdown",
   "metadata": {},
   "source": [
    "(NLP api)\n",
    "06457a3daf4520ffe643d3c3fad73112bb44f756"
   ]
  },
  {
   "cell_type": "code",
   "execution_count": 4,
   "metadata": {},
   "outputs": [
    {
     "name": "stdout",
     "output_type": "stream",
     "text": [
      "This email is not registered\n",
      "Registration successful.Now Login\n",
      "{'sasi@gmail.com': ['sasi', '1234']}\n",
      "login successful\n"
     ]
    },
    {
     "ename": "HTTPError",
     "evalue": "403 Client Error: Forbidden for url: https://api.nlpcloud.io/v1/gpu/finetuned-gpt-neox-20b/entities: ",
     "output_type": "error",
     "traceback": [
      "\u001b[0;31m---------------------------------------------------------------------------\u001b[0m",
      "\u001b[0;31mHTTPError\u001b[0m                                 Traceback (most recent call last)",
      "File \u001b[0;32m~/.local/lib/python3.8/site-packages/nlpcloud/__init__.py:179\u001b[0m, in \u001b[0;36mClient.entities\u001b[0;34m(self, text, searched_entity)\u001b[0m\n\u001b[1;32m    178\u001b[0m \u001b[39mtry\u001b[39;00m:\n\u001b[0;32m--> 179\u001b[0m     r\u001b[39m.\u001b[39;49mraise_for_status()\n\u001b[1;32m    180\u001b[0m \u001b[39mexcept\u001b[39;00m HTTPError \u001b[39mas\u001b[39;00m err:\n",
      "File \u001b[0;32m~/.local/lib/python3.8/site-packages/requests/models.py:1021\u001b[0m, in \u001b[0;36mResponse.raise_for_status\u001b[0;34m(self)\u001b[0m\n\u001b[1;32m   1020\u001b[0m \u001b[39mif\u001b[39;00m http_error_msg:\n\u001b[0;32m-> 1021\u001b[0m     \u001b[39mraise\u001b[39;00m HTTPError(http_error_msg, response\u001b[39m=\u001b[39m\u001b[39mself\u001b[39m)\n",
      "\u001b[0;31mHTTPError\u001b[0m: 403 Client Error: Forbidden for url: https://api.nlpcloud.io/v1/gpu/finetuned-gpt-neox-20b/entities",
      "\nDuring handling of the above exception, another exception occurred:\n",
      "\u001b[0;31mHTTPError\u001b[0m                                 Traceback (most recent call last)",
      "Cell \u001b[0;32mIn [4], line 92\u001b[0m\n\u001b[1;32m     85\u001b[0m         response \u001b[38;5;241m=\u001b[39m client\u001b[38;5;241m.\u001b[39mentities(para, searched_entity\u001b[38;5;241m=\u001b[39msearch_term)\n\u001b[1;32m     87\u001b[0m         \u001b[38;5;28mprint\u001b[39m(response)\n\u001b[0;32m---> 92\u001b[0m obj \u001b[38;5;241m=\u001b[39m \u001b[43mNLPApp\u001b[49m\u001b[43m(\u001b[49m\u001b[43m)\u001b[49m\n",
      "Cell \u001b[0;32mIn [4], line 8\u001b[0m, in \u001b[0;36mNLPApp.__init__\u001b[0;34m(self)\u001b[0m\n\u001b[1;32m      5\u001b[0m \u001b[38;5;28;01mdef\u001b[39;00m \u001b[38;5;21m__init__\u001b[39m(\u001b[38;5;28mself\u001b[39m):\n\u001b[1;32m      7\u001b[0m     \u001b[38;5;28mself\u001b[39m\u001b[38;5;241m.\u001b[39m__database \u001b[38;5;241m=\u001b[39m {}\n\u001b[0;32m----> 8\u001b[0m     \u001b[38;5;28;43mself\u001b[39;49m\u001b[38;5;241;43m.\u001b[39;49m\u001b[43m__first_menu\u001b[49m\u001b[43m(\u001b[49m\u001b[43m)\u001b[49m\n",
      "Cell \u001b[0;32mIn [4], line 23\u001b[0m, in \u001b[0;36mNLPApp.__first_menu\u001b[0;34m(self)\u001b[0m\n\u001b[1;32m     20\u001b[0m     \u001b[38;5;28mself\u001b[39m\u001b[38;5;241m.\u001b[39m__register()\n\u001b[1;32m     22\u001b[0m \u001b[38;5;28;01melif\u001b[39;00m first_input \u001b[38;5;241m==\u001b[39m \u001b[38;5;124m'\u001b[39m\u001b[38;5;124m2\u001b[39m\u001b[38;5;124m'\u001b[39m:\n\u001b[0;32m---> 23\u001b[0m     \u001b[38;5;28;43mself\u001b[39;49m\u001b[38;5;241;43m.\u001b[39;49m\u001b[43m__login\u001b[49m\u001b[43m(\u001b[49m\u001b[43m)\u001b[49m\n\u001b[1;32m     25\u001b[0m \u001b[38;5;28;01melse\u001b[39;00m:\n\u001b[1;32m     26\u001b[0m     exit()\n",
      "Cell \u001b[0;32mIn [4], line 77\u001b[0m, in \u001b[0;36mNLPApp.__login\u001b[0;34m(self)\u001b[0m\n\u001b[1;32m     75\u001b[0m \u001b[38;5;28;01melse\u001b[39;00m:\n\u001b[1;32m     76\u001b[0m     \u001b[38;5;28mprint\u001b[39m(\u001b[38;5;124m\"\u001b[39m\u001b[38;5;124mThis email is not registered\u001b[39m\u001b[38;5;124m\"\u001b[39m)\n\u001b[0;32m---> 77\u001b[0m     \u001b[38;5;28;43mself\u001b[39;49m\u001b[38;5;241;43m.\u001b[39;49m\u001b[43m__first_menu\u001b[49m\u001b[43m(\u001b[49m\u001b[43m)\u001b[49m\n",
      "Cell \u001b[0;32mIn [4], line 20\u001b[0m, in \u001b[0;36mNLPApp.__first_menu\u001b[0;34m(self)\u001b[0m\n\u001b[1;32m     12\u001b[0m first_input \u001b[38;5;241m=\u001b[39m \u001b[38;5;28minput\u001b[39m(\u001b[38;5;124m\"\"\"\u001b[39m\n\u001b[1;32m     13\u001b[0m \u001b[38;5;124mHi! how would like to proceed?\u001b[39m\n\u001b[1;32m     14\u001b[0m \u001b[38;5;124m1. Not a member? Register\u001b[39m\n\u001b[1;32m     15\u001b[0m \u001b[38;5;124m2. Already a member? Login\u001b[39m\n\u001b[1;32m     16\u001b[0m \u001b[38;5;124m3. Galti se aa gaya? Exit\u001b[39m\n\u001b[1;32m     17\u001b[0m \u001b[38;5;124m\u001b[39m\u001b[38;5;124m\"\"\"\u001b[39m)\n\u001b[1;32m     19\u001b[0m \u001b[38;5;28;01mif\u001b[39;00m first_input \u001b[38;5;241m==\u001b[39m \u001b[38;5;124m\"\u001b[39m\u001b[38;5;124m1\u001b[39m\u001b[38;5;124m\"\u001b[39m:\n\u001b[0;32m---> 20\u001b[0m     \u001b[38;5;28;43mself\u001b[39;49m\u001b[38;5;241;43m.\u001b[39;49m\u001b[43m__register\u001b[49m\u001b[43m(\u001b[49m\u001b[43m)\u001b[49m\n\u001b[1;32m     22\u001b[0m \u001b[38;5;28;01melif\u001b[39;00m first_input \u001b[38;5;241m==\u001b[39m \u001b[38;5;124m'\u001b[39m\u001b[38;5;124m2\u001b[39m\u001b[38;5;124m'\u001b[39m:\n\u001b[1;32m     23\u001b[0m     \u001b[38;5;28mself\u001b[39m\u001b[38;5;241m.\u001b[39m__login()\n",
      "Cell \u001b[0;32mIn [4], line 62\u001b[0m, in \u001b[0;36mNLPApp.__register\u001b[0;34m(self)\u001b[0m\n\u001b[1;32m     60\u001b[0m \u001b[38;5;28mprint\u001b[39m(\u001b[38;5;124m'\u001b[39m\u001b[38;5;124mRegistration successful.Now Login\u001b[39m\u001b[38;5;124m'\u001b[39m)\n\u001b[1;32m     61\u001b[0m \u001b[38;5;28mprint\u001b[39m(\u001b[38;5;28mself\u001b[39m\u001b[38;5;241m.\u001b[39m__database)\n\u001b[0;32m---> 62\u001b[0m \u001b[38;5;28;43mself\u001b[39;49m\u001b[38;5;241;43m.\u001b[39;49m\u001b[43m__first_menu\u001b[49m\u001b[43m(\u001b[49m\u001b[43m)\u001b[49m\n",
      "Cell \u001b[0;32mIn [4], line 23\u001b[0m, in \u001b[0;36mNLPApp.__first_menu\u001b[0;34m(self)\u001b[0m\n\u001b[1;32m     20\u001b[0m     \u001b[38;5;28mself\u001b[39m\u001b[38;5;241m.\u001b[39m__register()\n\u001b[1;32m     22\u001b[0m \u001b[38;5;28;01melif\u001b[39;00m first_input \u001b[38;5;241m==\u001b[39m \u001b[38;5;124m'\u001b[39m\u001b[38;5;124m2\u001b[39m\u001b[38;5;124m'\u001b[39m:\n\u001b[0;32m---> 23\u001b[0m     \u001b[38;5;28;43mself\u001b[39;49m\u001b[38;5;241;43m.\u001b[39;49m\u001b[43m__login\u001b[49m\u001b[43m(\u001b[49m\u001b[43m)\u001b[49m\n\u001b[1;32m     25\u001b[0m \u001b[38;5;28;01melse\u001b[39;00m:\n\u001b[1;32m     26\u001b[0m     exit()\n",
      "Cell \u001b[0;32mIn [4], line 74\u001b[0m, in \u001b[0;36mNLPApp.__login\u001b[0;34m(self)\u001b[0m\n\u001b[1;32m     72\u001b[0m     \u001b[38;5;28;01mif\u001b[39;00m \u001b[38;5;28mself\u001b[39m\u001b[38;5;241m.\u001b[39m__database[email][\u001b[38;5;241m1\u001b[39m] \u001b[38;5;241m==\u001b[39m password:\n\u001b[1;32m     73\u001b[0m         \u001b[38;5;28mprint\u001b[39m(\u001b[38;5;124m'\u001b[39m\u001b[38;5;124mlogin successful\u001b[39m\u001b[38;5;124m'\u001b[39m)\n\u001b[0;32m---> 74\u001b[0m         \u001b[38;5;28;43mself\u001b[39;49m\u001b[38;5;241;43m.\u001b[39;49m\u001b[43m__second_menu\u001b[49m\u001b[43m(\u001b[49m\u001b[43m)\u001b[49m\n\u001b[1;32m     75\u001b[0m \u001b[38;5;28;01melse\u001b[39;00m:\n\u001b[1;32m     76\u001b[0m     \u001b[38;5;28mprint\u001b[39m(\u001b[38;5;124m\"\u001b[39m\u001b[38;5;124mThis email is not registered\u001b[39m\u001b[38;5;124m\"\u001b[39m)\n",
      "Cell \u001b[0;32mIn [4], line 39\u001b[0m, in \u001b[0;36mNLPApp.__second_menu\u001b[0;34m(self)\u001b[0m\n\u001b[1;32m     31\u001b[0m second_input \u001b[38;5;241m=\u001b[39m \u001b[38;5;28minput\u001b[39m(\u001b[38;5;124m\"\"\"\u001b[39m\n\u001b[1;32m     32\u001b[0m \u001b[38;5;124mHi! how would like to proceed?\u001b[39m\n\u001b[1;32m     33\u001b[0m \u001b[38;5;124m1. NER\u001b[39m\n\u001b[1;32m     34\u001b[0m \u001b[38;5;124m2. Language Detection\u001b[39m\n\u001b[1;32m     35\u001b[0m \u001b[38;5;124m3. Sentiment Analysis\u001b[39m\n\u001b[1;32m     36\u001b[0m \u001b[38;5;124m\u001b[39m\u001b[38;5;124m\"\"\"\u001b[39m)\n\u001b[1;32m     38\u001b[0m \u001b[38;5;28;01mif\u001b[39;00m second_input \u001b[38;5;241m==\u001b[39m \u001b[38;5;124m\"\u001b[39m\u001b[38;5;124m1\u001b[39m\u001b[38;5;124m\"\u001b[39m:\n\u001b[0;32m---> 39\u001b[0m     \u001b[38;5;28;43mself\u001b[39;49m\u001b[38;5;241;43m.\u001b[39;49m\u001b[43m__ner\u001b[49m\u001b[43m(\u001b[49m\u001b[43m)\u001b[49m\n\u001b[1;32m     41\u001b[0m \u001b[38;5;28;01melif\u001b[39;00m second_input \u001b[38;5;241m==\u001b[39m \u001b[38;5;124m'\u001b[39m\u001b[38;5;124m2\u001b[39m\u001b[38;5;124m'\u001b[39m:\n\u001b[1;32m     42\u001b[0m     \u001b[38;5;28mself\u001b[39m\u001b[38;5;241m.\u001b[39m__language_detection()\n",
      "Cell \u001b[0;32mIn [4], line 85\u001b[0m, in \u001b[0;36mNLPApp.__ner\u001b[0;34m(self)\u001b[0m\n\u001b[1;32m     82\u001b[0m search_term \u001b[38;5;241m=\u001b[39m \u001b[38;5;28minput\u001b[39m(\u001b[38;5;124m'\u001b[39m\u001b[38;5;124mwhat would you like to search\u001b[39m\u001b[38;5;124m'\u001b[39m)\n\u001b[1;32m     84\u001b[0m client \u001b[38;5;241m=\u001b[39m nlpcloud\u001b[38;5;241m.\u001b[39mClient(\u001b[38;5;124m\"\u001b[39m\u001b[38;5;124mfinetuned-gpt-neox-20b\u001b[39m\u001b[38;5;124m\"\u001b[39m, \u001b[38;5;124m\"\u001b[39m\u001b[38;5;124m06457a3daf4520ffe643d3c3fad73112bb44f756\u001b[39m\u001b[38;5;124m\"\u001b[39m, gpu\u001b[38;5;241m=\u001b[39m\u001b[38;5;28;01mTrue\u001b[39;00m, lang\u001b[38;5;241m=\u001b[39m\u001b[38;5;124m\"\u001b[39m\u001b[38;5;124men\u001b[39m\u001b[38;5;124m\"\u001b[39m)\n\u001b[0;32m---> 85\u001b[0m response \u001b[38;5;241m=\u001b[39m \u001b[43mclient\u001b[49m\u001b[38;5;241;43m.\u001b[39;49m\u001b[43mentities\u001b[49m\u001b[43m(\u001b[49m\u001b[43mpara\u001b[49m\u001b[43m,\u001b[49m\u001b[43m \u001b[49m\u001b[43msearched_entity\u001b[49m\u001b[38;5;241;43m=\u001b[39;49m\u001b[43msearch_term\u001b[49m\u001b[43m)\u001b[49m\n\u001b[1;32m     87\u001b[0m \u001b[38;5;28mprint\u001b[39m(response)\n",
      "File \u001b[0;32m~/.local/lib/python3.8/site-packages/nlpcloud/__init__.py:184\u001b[0m, in \u001b[0;36mClient.entities\u001b[0;34m(self, text, searched_entity)\u001b[0m\n\u001b[1;32m    181\u001b[0m     \u001b[39mif\u001b[39;00m \u001b[39m\"\u001b[39m\u001b[39m<!DOCTYPE html>\u001b[39m\u001b[39m\"\u001b[39m \u001b[39min\u001b[39;00m r\u001b[39m.\u001b[39mtext:\n\u001b[1;32m    182\u001b[0m         \u001b[39mraise\u001b[39;00m HTTPError(\u001b[39mstr\u001b[39m(err))\n\u001b[0;32m--> 184\u001b[0m     \u001b[39mraise\u001b[39;00m HTTPError(\u001b[39mstr\u001b[39m(err) \u001b[39m+\u001b[39m \u001b[39m\"\u001b[39m\u001b[39m: \u001b[39m\u001b[39m\"\u001b[39m \u001b[39m+\u001b[39m \u001b[39mstr\u001b[39m(r\u001b[39m.\u001b[39mtext))\n\u001b[1;32m    186\u001b[0m \u001b[39mreturn\u001b[39;00m r\u001b[39m.\u001b[39mjson()\n",
      "\u001b[0;31mHTTPError\u001b[0m: 403 Client Error: Forbidden for url: https://api.nlpcloud.io/v1/gpu/finetuned-gpt-neox-20b/entities: "
     ]
    }
   ],
   "source": [
    "import nlpcloud\n",
    "\n",
    "class NLPApp:\n",
    "\n",
    "    def __init__(self):\n",
    "        \n",
    "        self.__database = {}\n",
    "        self.__first_menu()\n",
    "\n",
    "    def __first_menu(self):\n",
    "\n",
    "        first_input = input(\"\"\"\n",
    "        Hi! how would like to proceed?\n",
    "        1. Not a member? Register\n",
    "        2. Already a member? Login\n",
    "        3. Galti se aa gaya? Exit\n",
    "        \"\"\")\n",
    "\n",
    "        if first_input == \"1\":\n",
    "            self.__register()\n",
    "\n",
    "        elif first_input == '2':\n",
    "            self.__login()\n",
    "\n",
    "        else:\n",
    "            exit()\n",
    "\n",
    "\n",
    "    def __second_menu(self):\n",
    "\n",
    "        second_input = input(\"\"\"\n",
    "        Hi! how would like to proceed?\n",
    "        1. NER\n",
    "        2. Language Detection\n",
    "        3. Sentiment Analysis\n",
    "        \"\"\")\n",
    "\n",
    "        if second_input == \"1\":\n",
    "            self.__ner()\n",
    "\n",
    "        elif second_input == '2':\n",
    "            self.__language_detection()\n",
    "\n",
    "        elif second_input == '3':\n",
    "            self.__sentiment_analysis()\n",
    "\n",
    "        else:\n",
    "            exit()\n",
    "\n",
    "    def __register(self):\n",
    "\n",
    "        name = input(\"Enter Name\")\n",
    "        email = input(\"Enter Email\")\n",
    "        password = input(\"Enter Password\")\n",
    "\n",
    "        if email in self.__database:\n",
    "            print('Email already exists')\n",
    "        else:\n",
    "            self.__database[email] = [name,password]\n",
    "            print('Registration successful.Now Login')\n",
    "            print(self.__database)\n",
    "            self.__first_menu()\n",
    "        \n",
    "\n",
    "\n",
    "    def __login(self):\n",
    "\n",
    "        email = input(\"Enter Your Email\")\n",
    "        password = input(\"Enter Your Password\")\n",
    "\n",
    "        if email in self.__database:\n",
    "            if self.__database[email][1] == password:\n",
    "                print('login successful')\n",
    "                self.__second_menu()\n",
    "        else:\n",
    "            print(\"This email is not registered\")\n",
    "            self.__first_menu()\n",
    "\n",
    "\n",
    "    def __sentiment_analysis(self):\n",
    "        para = input('enter the paragraph')\n",
    "        #search_term = input('what would you like to search')\n",
    "\n",
    "        client = nlpcloud.Client(\"distilbert-base-uncased-emotion\", \"2b58d7fb9af09e617ee525e78c7766b6d8c5bb61\", gpu=False, lang=\"en\")\n",
    "        response = client.sentiment(para)\n",
    "\n",
    "        print(response)\n",
    "        \n",
    "\n",
    "\n",
    "    \n",
    "obj = NLPApp()"
   ]
  },
  {
   "cell_type": "code",
   "execution_count": null,
   "metadata": {},
   "outputs": [],
   "source": []
  },
  {
   "cell_type": "code",
   "execution_count": null,
   "metadata": {},
   "outputs": [],
   "source": []
  },
  {
   "cell_type": "code",
   "execution_count": null,
   "metadata": {},
   "outputs": [],
   "source": []
  }
 ],
 "metadata": {
  "kernelspec": {
   "display_name": "Python 3.8.10 64-bit",
   "language": "python",
   "name": "python3"
  },
  "language_info": {
   "codemirror_mode": {
    "name": "ipython",
    "version": 3
   },
   "file_extension": ".py",
   "mimetype": "text/x-python",
   "name": "python",
   "nbconvert_exporter": "python",
   "pygments_lexer": "ipython3",
   "version": "3.8.10"
  },
  "orig_nbformat": 4,
  "vscode": {
   "interpreter": {
    "hash": "e7370f93d1d0cde622a1f8e1c04877d8463912d04d973331ad4851f04de6915a"
   }
  }
 },
 "nbformat": 4,
 "nbformat_minor": 2
}
