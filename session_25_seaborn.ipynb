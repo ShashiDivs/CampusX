{
  "cells": [
    {
      "cell_type": "code",
      "execution_count": 2,
      "metadata": {},
      "outputs": [],
      "source": [
        "import seaborn as sns\n",
        "import pandas as pd\n",
        "import numpy as np"
      ]
    },
    {
      "cell_type": "markdown",
      "metadata": {
        "id": "s7HyP5gJfdF3"
      },
      "source": [
        "### Why Seaborn?\n",
        "\n",
        "- provides a layer of abstraction hence simpler to use\n",
        "- better aesthetics\n",
        "- more graphs included"
      ]
    },
    {
      "cell_type": "markdown",
      "metadata": {
        "id": "LTIOLNe4sar7"
      },
      "source": [
        "### Seaborn Roadmap\n",
        "\n",
        "Types of Functions\n",
        "\n",
        "- Figure Level\n",
        "- Axis Level\n",
        "\n",
        "Main Classification\n",
        "\n",
        "- Relational Plot\n",
        "- Distribution Plot\n",
        "- Categorical Plot\n",
        "- Regression Plot\n",
        "- Matrix Plot\n",
        "- Multiplots\n",
        "\n",
        "https://seaborn.pydata.org/api.html"
      ]
    },
    {
      "cell_type": "markdown",
      "metadata": {
        "id": "Ca1cmavDIdL9"
      },
      "source": [
        "### 1. Relational Plot\n",
        "\n",
        "- to see the statistical relation between 2 or more variables.\n",
        "- Bivariate Analysis\n",
        "\n",
        "Plots under this section\n",
        "\n",
        "- scatterplot\n",
        "- lineplot"
      ]
    },
    {
      "cell_type": "code",
      "execution_count": null,
      "metadata": {
        "id": "US5pwgNPhZxq"
      },
      "outputs": [],
      "source": [
        "# scatter plot"
      ]
    },
    {
      "cell_type": "code",
      "execution_count": null,
      "metadata": {
        "id": "eYb6RzPQPMvK"
      },
      "outputs": [],
      "source": [
        "# scatter using relplot -> size and hue"
      ]
    },
    {
      "cell_type": "code",
      "execution_count": null,
      "metadata": {
        "id": "-5SZ9zL3hgC9"
      },
      "outputs": [],
      "source": [
        "# style semantics"
      ]
    },
    {
      "cell_type": "code",
      "execution_count": null,
      "metadata": {
        "id": "JYeWbV_IKUaC"
      },
      "outputs": [],
      "source": [
        "# line plot"
      ]
    },
    {
      "cell_type": "code",
      "execution_count": null,
      "metadata": {
        "id": "WvzC_F8RWZWi"
      },
      "outputs": [],
      "source": [
        "# using relpplot"
      ]
    },
    {
      "cell_type": "code",
      "execution_count": null,
      "metadata": {
        "id": "09yZg8SKKWEA"
      },
      "outputs": [],
      "source": [
        "# hue -> style"
      ]
    },
    {
      "cell_type": "code",
      "execution_count": null,
      "metadata": {
        "id": "yxUQ8yj_MZTD"
      },
      "outputs": [],
      "source": [
        "# facet plot"
      ]
    },
    {
      "cell_type": "code",
      "execution_count": null,
      "metadata": {
        "id": "FhRtLgiEMbri"
      },
      "outputs": [],
      "source": [
        "# col wrap"
      ]
    },
    {
      "cell_type": "markdown",
      "metadata": {
        "id": "rD7hPbv353uf"
      },
      "source": [
        "### 2. Distribution Plots\n",
        "\n",
        "- used for univariate analysis\n",
        "- used to find out the distribution\n",
        "- Range of the observation\n",
        "- Central Tendency\n",
        "- is the data bimodal?\n",
        "- Are there outliers?\n",
        "\n",
        "Plots under distribution plot\n",
        "\n",
        "- histplot\n",
        "- kdeplot\n",
        "- rugplot"
      ]
    },
    {
      "cell_type": "code",
      "execution_count": null,
      "metadata": {
        "id": "9Fem0A5j75gY"
      },
      "outputs": [],
      "source": [
        "# plotting univariate histogram"
      ]
    },
    {
      "cell_type": "code",
      "execution_count": null,
      "metadata": {
        "id": "7MX3-9s47-mB"
      },
      "outputs": [],
      "source": [
        "# bins parameter"
      ]
    },
    {
      "cell_type": "code",
      "execution_count": null,
      "metadata": {
        "id": "VP1EXFT5-DJ6"
      },
      "outputs": [],
      "source": [
        "# It’s also possible to visualize the distribution of a categorical variable using the logic of a histogram. \n",
        "# Discrete bins are automatically set for categorical variables"
      ]
    },
    {
      "cell_type": "code",
      "execution_count": null,
      "metadata": {
        "id": "jnJUJwqI-f7h"
      },
      "outputs": [],
      "source": [
        "# hue parameter"
      ]
    },
    {
      "cell_type": "code",
      "execution_count": null,
      "metadata": {
        "id": "_Jv_Ba1z-p1s"
      },
      "outputs": [],
      "source": [
        "# element -> step"
      ]
    },
    {
      "cell_type": "code",
      "execution_count": null,
      "metadata": {
        "id": "_bpJGxgG_AqF"
      },
      "outputs": [],
      "source": [
        "# faceting using col and row"
      ]
    },
    {
      "cell_type": "code",
      "execution_count": null,
      "metadata": {
        "id": "DZunqSbx_GJR"
      },
      "outputs": [],
      "source": [
        "# kdeplot\n",
        "# Rather than using discrete bins, a KDE plot smooths the observations with a Gaussian kernel, producing a continuous density estimate\n"
      ]
    },
    {
      "cell_type": "code",
      "execution_count": null,
      "metadata": {
        "id": "O_sgEb8d_h0I"
      },
      "outputs": [],
      "source": [
        "# hue -> fill"
      ]
    },
    {
      "cell_type": "code",
      "execution_count": null,
      "metadata": {
        "id": "ZyzrwEiCjLyc"
      },
      "outputs": [],
      "source": [
        "# Rugplot\n",
        "\n",
        "# Plot marginal distributions by drawing ticks along the x and y axes.\n",
        "\n",
        "# This function is intended to complement other plots by showing the location of individual observations in an unobtrusive way."
      ]
    },
    {
      "cell_type": "code",
      "execution_count": null,
      "metadata": {
        "id": "4hjliHDo_7ZM"
      },
      "outputs": [],
      "source": [
        "# Bivariate histogram\n",
        "# A bivariate histogram bins the data within rectangles that tile the plot \n",
        "# and then shows the count of observations within each rectangle with the fill color"
      ]
    },
    {
      "cell_type": "code",
      "execution_count": null,
      "metadata": {
        "id": "oDQRpwsj_9Z0"
      },
      "outputs": [],
      "source": [
        "# Bivariate Kdeplot\n",
        "# a bivariate KDE plot smoothes the (x, y) observations with a 2D Gaussian"
      ]
    },
    {
      "cell_type": "markdown",
      "metadata": {
        "id": "QbJVnOPyHFcT"
      },
      "source": [
        "### 2. Matrix Plot\n",
        "\n",
        "- Heatmap\n",
        "- Clustermap"
      ]
    },
    {
      "cell_type": "code",
      "execution_count": null,
      "metadata": {
        "id": "Agahz3TuHJpV"
      },
      "outputs": [],
      "source": [
        "# Heatmap\n",
        "\n",
        "# Plot rectangular data as a color-encoded matrix"
      ]
    },
    {
      "cell_type": "code",
      "execution_count": null,
      "metadata": {
        "id": "DsOCFpJaHfPx"
      },
      "outputs": [],
      "source": [
        "# annot"
      ]
    },
    {
      "cell_type": "code",
      "execution_count": null,
      "metadata": {
        "id": "4Jbd0uhBHkW5"
      },
      "outputs": [],
      "source": [
        "# linewidth"
      ]
    },
    {
      "cell_type": "code",
      "execution_count": null,
      "metadata": {
        "id": "246TPY1NHrEg"
      },
      "outputs": [],
      "source": [
        "# cmap"
      ]
    },
    {
      "cell_type": "code",
      "execution_count": null,
      "metadata": {
        "id": "v9iQeRz2Hrt_"
      },
      "outputs": [],
      "source": [
        "# Clustermap\n",
        "\n",
        "# Plot a matrix dataset as a hierarchically-clustered heatmap.\n",
        "\n",
        "# This function requires scipy to be available."
      ]
    },
    {
      "cell_type": "code",
      "execution_count": null,
      "metadata": {
        "id": "TtGLuTLMqIeW"
      },
      "outputs": [],
      "source": []
    }
  ],
  "metadata": {
    "colab": {
      "provenance": []
    },
    "kernelspec": {
      "display_name": "Python 3.8.10 64-bit",
      "language": "python",
      "name": "python3"
    },
    "language_info": {
      "codemirror_mode": {
        "name": "ipython",
        "version": 3
      },
      "file_extension": ".py",
      "mimetype": "text/x-python",
      "name": "python",
      "nbconvert_exporter": "python",
      "pygments_lexer": "ipython3",
      "version": "3.8.10"
    },
    "vscode": {
      "interpreter": {
        "hash": "e7370f93d1d0cde622a1f8e1c04877d8463912d04d973331ad4851f04de6915a"
      }
    }
  },
  "nbformat": 4,
  "nbformat_minor": 0
}
