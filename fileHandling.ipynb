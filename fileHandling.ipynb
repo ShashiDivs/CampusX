{
 "cells": [
  {
   "cell_type": "markdown",
   "metadata": {},
   "source": [
    "\n",
    "Some Theory\n",
    "\n",
    "Types of data used for I/O:\n",
    "     Text - '12345' as a sequence of unicode chars\n",
    "     Binary - 12345 as a sequence of bytes of its binary equivalent\n",
    "\n",
    "Hence there are 2 file types to deal with\n",
    "     Text files - All program files are text files\n",
    "     Binary Files - Images,music,video,exe files\n",
    "\n",
    "How File I/O is done in most programming languages\n",
    "     Open a file\n",
    "     Read/Write data\n",
    "    Close the file\n",
    "    \n",
    "Writing to a file"
   ]
  },
  {
   "cell_type": "code",
   "execution_count": 8,
   "metadata": {},
   "outputs": [],
   "source": [
    "# case 1 - if the file is not present\n",
    "\n",
    "f = open('files/sample.txt','w')\n",
    "f.write('Hello World')\n",
    "f.close()\n",
    "# since file is closed hence this wont work\n",
    "f.write(\"Hello\")"
   ]
  },
  {
   "cell_type": "code",
   "execution_count": 9,
   "metadata": {},
   "outputs": [],
   "source": [
    "# write multiline strings\n",
    "\n",
    "f = open('files/sample1.txt','w')\n",
    "f.write('Hello World')\n",
    "f.write('\\nhow are you')\n",
    "f.close()"
   ]
  },
  {
   "cell_type": "code",
   "execution_count": 10,
   "metadata": {},
   "outputs": [],
   "source": [
    "# how exactly open() works?\n",
    "\n",
    "f = open('files/sample.txt','w')\n",
    "f.write('sasi')\n",
    "f.close()"
   ]
  },
  {
   "cell_type": "code",
   "execution_count": 12,
   "metadata": {},
   "outputs": [],
   "source": [
    "# Problem with w mode\n",
    "# introducing append mode\n",
    "\n",
    "\n",
    "f = open('files/sample1.txt','a')\n",
    "f.write('\\nI am PhD')\n",
    "f.close()"
   ]
  },
  {
   "cell_type": "code",
   "execution_count": 13,
   "metadata": {},
   "outputs": [],
   "source": [
    "# write lines\n",
    "\n",
    "L = ['Hello\\n','Hi\\n','How are you\\n','I am fine\\n']\n",
    "\n",
    "\n",
    "f = open('files/sample.txt','w')\n",
    "f.writelines(L)\n",
    "f.close()"
   ]
  },
  {
   "cell_type": "code",
   "execution_count": 15,
   "metadata": {},
   "outputs": [],
   "source": [
    "L = ['hello','Shashi']\n",
    "\n",
    "f = open('files/sample1.txt','w')\n",
    "f.writelines(L)\n",
    "f.close()\n"
   ]
  },
  {
   "cell_type": "code",
   "execution_count": 20,
   "metadata": {},
   "outputs": [
    {
     "name": "stdout",
     "output_type": "stream",
     "text": [
      "Hello Worldw are you\n",
      "I am fine\n",
      "\n"
     ]
    }
   ],
   "source": [
    "# reading from files\n",
    "# -> using read()\n",
    "\n",
    "f = open('files/sample.txt','r')\n",
    "s = f.read()\n",
    "print(s)\n",
    "f.close()"
   ]
  },
  {
   "cell_type": "code",
   "execution_count": 21,
   "metadata": {},
   "outputs": [
    {
     "name": "stdout",
     "output_type": "stream",
     "text": [
      "Hello Worl\n"
     ]
    }
   ],
   "source": [
    "# reading upto n chars\n",
    "\n",
    "f = open('files/sample.txt','r')\n",
    "s = f.read(10)\n",
    "print(s)\n",
    "f.close()"
   ]
  },
  {
   "cell_type": "code",
   "execution_count": 24,
   "metadata": {},
   "outputs": [
    {
     "name": "stdout",
     "output_type": "stream",
     "text": [
      "Hello Worldw are you\n",
      "I am fine\n",
      "\n"
     ]
    }
   ],
   "source": [
    "# readline() -> to read line by line\n",
    "f = open('files/sample.txt','r')\n",
    "print(f.readline(),end='')\n",
    "print(f.readline())\n",
    "f.close()"
   ]
  },
  {
   "cell_type": "code",
   "execution_count": 27,
   "metadata": {},
   "outputs": [
    {
     "name": "stdout",
     "output_type": "stream",
     "text": [
      "Hello Worldw are you\n",
      "I am fine\n",
      "Hey man\n",
      "hello ravi\n",
      "hi Ineuron\n"
     ]
    }
   ],
   "source": [
    "# reading entire using readline\n",
    "\n",
    "f = open('files/sample.txt','r')\n",
    "\n",
    "while True:\n",
    "    data = f.readline()\n",
    "\n",
    "    if data == '':\n",
    "        break\n",
    "    else:\n",
    "        print(data,end='')\n",
    "\n",
    "f.close()"
   ]
  },
  {
   "cell_type": "markdown",
   "metadata": {},
   "source": [
    "Using Context Manager (With)\n",
    " \n",
    "  It's a good idea to close a file after usage as it will free up the resources\n",
    "  If we dont close it, garbage collector would close it\n",
    "  with keyword closes the file as soon as the usage is over"
   ]
  },
  {
   "cell_type": "code",
   "execution_count": 28,
   "metadata": {},
   "outputs": [],
   "source": [
    "# with\n",
    "\n",
    "with open('files/sams.txt','w') as f:\n",
    "    f.write('shashi and shambhavi')"
   ]
  },
  {
   "cell_type": "code",
   "execution_count": 30,
   "metadata": {},
   "outputs": [
    {
     "name": "stdout",
     "output_type": "stream",
     "text": [
      "shashi and shambhavi\n"
     ]
    }
   ],
   "source": [
    "# try f.read() now\n",
    "\n",
    "with open('files/sams.txt','r') as f:\n",
    "    print(f.read())"
   ]
  },
  {
   "cell_type": "code",
   "execution_count": 33,
   "metadata": {},
   "outputs": [
    {
     "name": "stdout",
     "output_type": "stream",
     "text": [
      "Hello Worl\n",
      "dw are you\n"
     ]
    }
   ],
   "source": [
    "# moving within a file -> 10 char then 10 char\n",
    "\n",
    "\n",
    "with open('files/sample.txt','r') as f:\n",
    "    print(f.read(10))\n",
    "    print(f.read(10))"
   ]
  },
  {
   "cell_type": "code",
   "execution_count": 35,
   "metadata": {},
   "outputs": [],
   "source": [
    "# benefit? -> to load a big file in memory\n",
    "big_L = ['hello world ' for i in range(1000)]\n",
    "\n",
    "with open('files/big.txt','w') as f:\n",
    "  f.writelines(big_L)"
   ]
  },
  {
   "cell_type": "code",
   "execution_count": 38,
   "metadata": {},
   "outputs": [],
   "source": [
    "with open('files/big.txt','r') as f:\n",
    "\n",
    "    chunk_size = 100\n",
    "\n",
    "    #while len(f.read(chunk_size))>0:\n",
    "        #print(f.read(chunk_size),end='**')\n",
    "        #f.read(chunk_size)"
   ]
  },
  {
   "cell_type": "code",
   "execution_count": 41,
   "metadata": {},
   "outputs": [
    {
     "name": "stdout",
     "output_type": "stream",
     "text": [
      "Hello Worl\n",
      "10\n"
     ]
    }
   ],
   "source": [
    "# seek and tell function\n",
    "\n",
    "with open('files/sample.txt','r') as f:\n",
    "    print(f.read(10))\n",
    "    print(f.tell())#is a mechanism to tell next character in the process"
   ]
  },
  {
   "cell_type": "code",
   "execution_count": 46,
   "metadata": {},
   "outputs": [
    {
     "name": "stdout",
     "output_type": "stream",
     "text": [
      "Hello Worl\n",
      "0\n",
      "Hello Worl\n"
     ]
    }
   ],
   "source": [
    "with open('files/sample.txt','r') as f:\n",
    "    print(f.read(10))\n",
    "    print(f.seek(0))\n",
    "    print(f.read(10))"
   ]
  },
  {
   "cell_type": "code",
   "execution_count": null,
   "metadata": {},
   "outputs": [],
   "source": [
    "# seek during write\n",
    "\n",
    "with open('files/sample.txt','w') as f:\n",
    "    f.write('hello')\n",
    "    f.seek(0)\n",
    "    f.write('Dolls')"
   ]
  },
  {
   "cell_type": "code",
   "execution_count": 5,
   "metadata": {},
   "outputs": [
    {
     "name": "stdout",
     "output_type": "stream",
     "text": [
      "12\n"
     ]
    }
   ],
   "source": [
    "with open('files/movies.txt','w') as f:\n",
    "    f.write('Hey Man')\n",
    "    f.write('\\nHow are you')\n",
    "    f.seek(0)\n",
    "    f.write('\\nHow are you')\n",
    "    print(f.tell())"
   ]
  },
  {
   "cell_type": "markdown",
   "metadata": {},
   "source": [
    "Problems with working in text mode\n",
    "\n",
    "* can't work with binary files like images\n",
    "* not good for other data types like int/float/list/tuples"
   ]
  },
  {
   "cell_type": "code",
   "execution_count": 8,
   "metadata": {},
   "outputs": [],
   "source": [
    "# working with binary file\n",
    "\n",
    "#with open('files/rose.png','rb') as f:\n",
    "    #print(f.read())"
   ]
  },
  {
   "cell_type": "code",
   "execution_count": 9,
   "metadata": {},
   "outputs": [],
   "source": [
    "# working with binary file\n",
    "\n",
    "with open('files/rose.png','rb') as f:\n",
    "    with open('files/rose1_png','wb') as wf:\n",
    "        wf.write(f.read())"
   ]
  },
  {
   "cell_type": "code",
   "execution_count": 10,
   "metadata": {},
   "outputs": [
    {
     "ename": "TypeError",
     "evalue": "write() argument must be str, not int",
     "output_type": "error",
     "traceback": [
      "\u001b[0;31m---------------------------------------------------------------------------\u001b[0m",
      "\u001b[0;31mTypeError\u001b[0m                                 Traceback (most recent call last)",
      "Cell \u001b[0;32mIn[10], line 4\u001b[0m\n\u001b[1;32m      1\u001b[0m \u001b[38;5;66;03m# working with a big binary file\u001b[39;00m\n\u001b[1;32m      3\u001b[0m \u001b[38;5;28;01mwith\u001b[39;00m \u001b[38;5;28mopen\u001b[39m(\u001b[38;5;124m'\u001b[39m\u001b[38;5;124mfiles/sample.txt\u001b[39m\u001b[38;5;124m'\u001b[39m,\u001b[38;5;124m'\u001b[39m\u001b[38;5;124mw\u001b[39m\u001b[38;5;124m'\u001b[39m) \u001b[38;5;28;01mas\u001b[39;00m f:\n\u001b[0;32m----> 4\u001b[0m     \u001b[43mf\u001b[49m\u001b[38;5;241;43m.\u001b[39;49m\u001b[43mwrite\u001b[49m\u001b[43m(\u001b[49m\u001b[38;5;241;43m5\u001b[39;49m\u001b[43m)\u001b[49m\n",
      "\u001b[0;31mTypeError\u001b[0m: write() argument must be str, not int"
     ]
    }
   ],
   "source": [
    "# working with a big binary file\n",
    "\n",
    "with open('files/sample.txt','w') as f:\n",
    "    f.write(5)"
   ]
  },
  {
   "cell_type": "code",
   "execution_count": 11,
   "metadata": {},
   "outputs": [],
   "source": [
    "# working with a big binary file\n",
    "\n",
    "with open('files/sample.txt','w') as f:\n",
    "    f.write('5')"
   ]
  },
  {
   "cell_type": "code",
   "execution_count": 13,
   "metadata": {},
   "outputs": [
    {
     "name": "stdout",
     "output_type": "stream",
     "text": [
      "55\n"
     ]
    }
   ],
   "source": [
    "with open('files/sample.txt','r') as f:\n",
    "    print(f.read() + \"5\")"
   ]
  },
  {
   "cell_type": "code",
   "execution_count": 17,
   "metadata": {},
   "outputs": [],
   "source": [
    "#more complex data\n",
    "\n",
    "d = {\n",
    "    'name':'shashi',\n",
    "    'age': 38,\n",
    "    'gender':'male'\n",
    "}\n",
    "\n",
    "with open('files/sampled.txt','w') as f:\n",
    "    f.write(str(d))"
   ]
  },
  {
   "cell_type": "code",
   "execution_count": 20,
   "metadata": {},
   "outputs": [
    {
     "name": "stdout",
     "output_type": "stream",
     "text": [
      "{'name': 'shashi', 'age': 38, 'gender': 'male'}\n",
      "<class 'str'>\n"
     ]
    }
   ],
   "source": [
    "with open('files/sampled.txt','r') as f:\n",
    "    print(f.read())\n",
    "    print(type(f.read()))"
   ]
  },
  {
   "cell_type": "markdown",
   "metadata": {},
   "source": [
    "Serialization and Deserialization\n",
    "\n",
    "* Serialization - process of converting python data types to JSON format\n",
    "* Deserialization - process of converting JSON to python data types"
   ]
  },
  {
   "cell_type": "code",
   "execution_count": null,
   "metadata": {},
   "outputs": [],
   "source": [
    "#What is JSON? (JAVASCRIPT ON NOTATION)"
   ]
  },
  {
   "cell_type": "code",
   "execution_count": 22,
   "metadata": {},
   "outputs": [],
   "source": [
    "# serialization using json module\n",
    "# list\n",
    "import json\n",
    "\n",
    "L = [1,2,3,4]\n",
    "\n",
    "with open('files/demo.josn','w') as f:\n",
    "    json.dump(L,f)"
   ]
  },
  {
   "cell_type": "code",
   "execution_count": 25,
   "metadata": {},
   "outputs": [],
   "source": [
    "# dict\n",
    "\n",
    "d = {\n",
    "     'name':'shashi',\n",
    "    'age': 38,\n",
    "    'gender':'male'\n",
    "}\n",
    "\n",
    "with open('files/demo.json','w') as f:\n",
    "    json.dump(d,f,indent=4)"
   ]
  },
  {
   "cell_type": "code",
   "execution_count": 29,
   "metadata": {},
   "outputs": [
    {
     "name": "stdout",
     "output_type": "stream",
     "text": [
      "<class 'dict'>\n"
     ]
    }
   ],
   "source": [
    "#Deserialization\n",
    "\n",
    "with open('files/demo.json','r') as f:\n",
    "    d= json.load(f)\n",
    "    print(type(d))"
   ]
  },
  {
   "cell_type": "code",
   "execution_count": 30,
   "metadata": {},
   "outputs": [],
   "source": [
    "# serialize and deserialize tuple\n",
    "\n",
    "import json\n",
    "\n",
    "t = (1,2,3,4,5)\n",
    "\n",
    "with open('files/demo1.json','w') as f:\n",
    "    json.dump(t,f)"
   ]
  },
  {
   "cell_type": "code",
   "execution_count": 33,
   "metadata": {},
   "outputs": [],
   "source": [
    "# serialize and deserialize a nested dict\n",
    "\n",
    "d = {\n",
    "    'student':'sassi',\n",
    "    'marks':[23,4,5,67,90]\n",
    "}\n",
    "\n",
    "with open('files/demo1.json','w') as f:\n",
    "    json.dump(d,f)"
   ]
  },
  {
   "cell_type": "code",
   "execution_count": null,
   "metadata": {},
   "outputs": [],
   "source": [
    "#Serializing and Deserializing custom objects"
   ]
  },
  {
   "cell_type": "code",
   "execution_count": 37,
   "metadata": {},
   "outputs": [],
   "source": [
    "class Person:\n",
    "\n",
    "    def __init__(self,fname,lname,age,gender):\n",
    "\n",
    "        self.fname = fname\n",
    "        self.lname = lname\n",
    "        self.age = age\n",
    "        self.gender = gender\n",
    "\n",
    "# format to printed in\n",
    "# -> Shashi Gaajarla age -> 33 gender -> male\n",
    "\n",
    "person = Person('Shashi','Gaajarla',38,'male')"
   ]
  },
  {
   "cell_type": "code",
   "execution_count": 39,
   "metadata": {},
   "outputs": [
    {
     "ename": "TypeError",
     "evalue": "Object of type Person is not JSON serializable",
     "output_type": "error",
     "traceback": [
      "\u001b[0;31m---------------------------------------------------------------------------\u001b[0m",
      "\u001b[0;31mTypeError\u001b[0m                                 Traceback (most recent call last)",
      "Cell \u001b[0;32mIn[39], line 4\u001b[0m\n\u001b[1;32m      1\u001b[0m \u001b[38;5;28;01mimport\u001b[39;00m \u001b[38;5;21;01mjson\u001b[39;00m\n\u001b[1;32m      3\u001b[0m \u001b[38;5;28;01mwith\u001b[39;00m \u001b[38;5;28mopen\u001b[39m(\u001b[38;5;124m'\u001b[39m\u001b[38;5;124mfiles/demos.json\u001b[39m\u001b[38;5;124m'\u001b[39m,\u001b[38;5;124m'\u001b[39m\u001b[38;5;124mw\u001b[39m\u001b[38;5;124m'\u001b[39m) \u001b[38;5;28;01mas\u001b[39;00m f:\n\u001b[0;32m----> 4\u001b[0m     \u001b[43mjson\u001b[49m\u001b[38;5;241;43m.\u001b[39;49m\u001b[43mdump\u001b[49m\u001b[43m(\u001b[49m\u001b[43mperson\u001b[49m\u001b[43m,\u001b[49m\u001b[43mf\u001b[49m\u001b[43m)\u001b[49m\n",
      "File \u001b[0;32m/usr/lib/python3.8/json/__init__.py:179\u001b[0m, in \u001b[0;36mdump\u001b[0;34m(obj, fp, skipkeys, ensure_ascii, check_circular, allow_nan, cls, indent, separators, default, sort_keys, **kw)\u001b[0m\n\u001b[1;32m    173\u001b[0m     iterable \u001b[39m=\u001b[39m \u001b[39mcls\u001b[39m(skipkeys\u001b[39m=\u001b[39mskipkeys, ensure_ascii\u001b[39m=\u001b[39mensure_ascii,\n\u001b[1;32m    174\u001b[0m         check_circular\u001b[39m=\u001b[39mcheck_circular, allow_nan\u001b[39m=\u001b[39mallow_nan, indent\u001b[39m=\u001b[39mindent,\n\u001b[1;32m    175\u001b[0m         separators\u001b[39m=\u001b[39mseparators,\n\u001b[1;32m    176\u001b[0m         default\u001b[39m=\u001b[39mdefault, sort_keys\u001b[39m=\u001b[39msort_keys, \u001b[39m*\u001b[39m\u001b[39m*\u001b[39mkw)\u001b[39m.\u001b[39miterencode(obj)\n\u001b[1;32m    177\u001b[0m \u001b[39m# could accelerate with writelines in some versions of Python, at\u001b[39;00m\n\u001b[1;32m    178\u001b[0m \u001b[39m# a debuggability cost\u001b[39;00m\n\u001b[0;32m--> 179\u001b[0m \u001b[39mfor\u001b[39;00m chunk \u001b[39min\u001b[39;00m iterable:\n\u001b[1;32m    180\u001b[0m     fp\u001b[39m.\u001b[39mwrite(chunk)\n",
      "File \u001b[0;32m/usr/lib/python3.8/json/encoder.py:438\u001b[0m, in \u001b[0;36m_make_iterencode.<locals>._iterencode\u001b[0;34m(o, _current_indent_level)\u001b[0m\n\u001b[1;32m    436\u001b[0m         \u001b[39mraise\u001b[39;00m \u001b[39mValueError\u001b[39;00m(\u001b[39m\"\u001b[39m\u001b[39mCircular reference detected\u001b[39m\u001b[39m\"\u001b[39m)\n\u001b[1;32m    437\u001b[0m     markers[markerid] \u001b[39m=\u001b[39m o\n\u001b[0;32m--> 438\u001b[0m o \u001b[39m=\u001b[39m _default(o)\n\u001b[1;32m    439\u001b[0m \u001b[39myield from\u001b[39;00m _iterencode(o, _current_indent_level)\n\u001b[1;32m    440\u001b[0m \u001b[39mif\u001b[39;00m markers \u001b[39mis\u001b[39;00m \u001b[39mnot\u001b[39;00m \u001b[39mNone\u001b[39;00m:\n",
      "File \u001b[0;32m/usr/lib/python3.8/json/encoder.py:179\u001b[0m, in \u001b[0;36mJSONEncoder.default\u001b[0;34m(self, o)\u001b[0m\n\u001b[1;32m    160\u001b[0m \u001b[39mdef\u001b[39;00m \u001b[39mdefault\u001b[39m(\u001b[39mself\u001b[39m, o):\n\u001b[1;32m    161\u001b[0m     \u001b[39m\"\"\"Implement this method in a subclass such that it returns\u001b[39;00m\n\u001b[1;32m    162\u001b[0m \u001b[39m    a serializable object for ``o``, or calls the base implementation\u001b[39;00m\n\u001b[1;32m    163\u001b[0m \u001b[39m    (to raise a ``TypeError``).\u001b[39;00m\n\u001b[0;32m   (...)\u001b[0m\n\u001b[1;32m    177\u001b[0m \n\u001b[1;32m    178\u001b[0m \u001b[39m    \"\"\"\u001b[39;00m\n\u001b[0;32m--> 179\u001b[0m     \u001b[39mraise\u001b[39;00m \u001b[39mTypeError\u001b[39;00m(\u001b[39mf\u001b[39m\u001b[39m'\u001b[39m\u001b[39mObject of type \u001b[39m\u001b[39m{\u001b[39;00mo\u001b[39m.\u001b[39m\u001b[39m__class__\u001b[39m\u001b[39m.\u001b[39m\u001b[39m__name__\u001b[39m\u001b[39m}\u001b[39;00m\u001b[39m \u001b[39m\u001b[39m'\u001b[39m\n\u001b[1;32m    180\u001b[0m                     \u001b[39mf\u001b[39m\u001b[39m'\u001b[39m\u001b[39mis not JSON serializable\u001b[39m\u001b[39m'\u001b[39m)\n",
      "\u001b[0;31mTypeError\u001b[0m: Object of type Person is not JSON serializable"
     ]
    }
   ],
   "source": [
    "import json\n",
    "\n",
    "with open('files/demos.json','w') as f:\n",
    "    json.dump(person,f)"
   ]
  },
  {
   "cell_type": "code",
   "execution_count": 41,
   "metadata": {},
   "outputs": [],
   "source": [
    "import json\n",
    "\n",
    "def show_objects(person):\n",
    "    if isinstance(person,Person):\n",
    "        return f\"{person.fname} {person.lname} age -> {person.age} gender ->{person.gender}\"\n",
    "\n",
    "with open('files/demos.json','w') as f:\n",
    "    json.dump(person,f,default=show_objects)"
   ]
  },
  {
   "cell_type": "code",
   "execution_count": 42,
   "metadata": {},
   "outputs": [],
   "source": [
    "import json\n",
    "\n",
    "def show_objects(person):\n",
    "    if isinstance(person,Person):\n",
    "        return {\n",
    "            'name':person.fname,\n",
    "            'lname':person.lname,\n",
    "            'age':person.age,\n",
    "            'gender':person.gender\n",
    "        }\n",
    "\n",
    "with open('files/demos.json','w') as f:\n",
    "    json.dump(person,f,default=show_objects)"
   ]
  },
  {
   "cell_type": "code",
   "execution_count": null,
   "metadata": {},
   "outputs": [],
   "source": [
    "# indent arrtribute\n",
    "# As a dict"
   ]
  },
  {
   "cell_type": "code",
   "execution_count": 43,
   "metadata": {},
   "outputs": [
    {
     "name": "stdout",
     "output_type": "stream",
     "text": [
      "{'name': 'Shashi', 'lname': 'Gaajarla', 'age': 38, 'gender': 'male'}\n"
     ]
    }
   ],
   "source": [
    "# deserializing\n",
    "\n",
    "import json\n",
    "\n",
    "with open('files/demos.json','r') as f:\n",
    "    print(json.load(f))"
   ]
  },
  {
   "cell_type": "markdown",
   "metadata": {},
   "source": [
    "Pickling\n",
    "\n",
    "* Pickling is the process whereby a Python object hierarchy is converted into a byte stream, and unpickling is the inverse operation, whereby a byte stream (from a * * binary file or bytes-like object) is converted back into an object hierarchy."
   ]
  },
  {
   "cell_type": "code",
   "execution_count": 46,
   "metadata": {},
   "outputs": [],
   "source": [
    "class Person:\n",
    "\n",
    "    def __init__(self,name,age):\n",
    "        self.name = name\n",
    "        self.age = age\n",
    "\n",
    "    def display_info(self):\n",
    "        print(\"Hi my name is {} ,and i am {}, years of oled\".format(self.name,self.age))\n",
    "\n",
    "p = Person('shashi',38)"
   ]
  },
  {
   "cell_type": "code",
   "execution_count": 47,
   "metadata": {},
   "outputs": [],
   "source": [
    "#pickle dump\n",
    "import pickle\n",
    "\n",
    "with open('files/person.pickle','wb') as f:\n",
    "    pickle.dump(p,f)"
   ]
  },
  {
   "cell_type": "code",
   "execution_count": 1,
   "metadata": {},
   "outputs": [
    {
     "name": "stdout",
     "output_type": "stream",
     "text": [
      "hello\n"
     ]
    }
   ],
   "source": [
    "print('hello')"
   ]
  }
 ],
 "metadata": {
  "kernelspec": {
   "display_name": "Python 3.8.10 64-bit",
   "language": "python",
   "name": "python3"
  },
  "language_info": {
   "codemirror_mode": {
    "name": "ipython",
    "version": 3
   },
   "file_extension": ".py",
   "mimetype": "text/x-python",
   "name": "python",
   "nbconvert_exporter": "python",
   "pygments_lexer": "ipython3",
   "version": "3.8.10"
  },
  "orig_nbformat": 4,
  "vscode": {
   "interpreter": {
    "hash": "e7370f93d1d0cde622a1f8e1c04877d8463912d04d973331ad4851f04de6915a"
   }
  }
 },
 "nbformat": 4,
 "nbformat_minor": 2
}
