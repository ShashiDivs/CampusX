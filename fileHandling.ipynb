{
 "cells": [
  {
   "cell_type": "markdown",
   "metadata": {},
   "source": [
    "\n",
    "Some Theory\n",
    "\n",
    "Types of data used for I/O:\n",
    "     Text - '12345' as a sequence of unicode chars\n",
    "     Binary - 12345 as a sequence of bytes of its binary equivalent\n",
    "\n",
    "Hence there are 2 file types to deal with\n",
    "     Text files - All program files are text files\n",
    "     Binary Files - Images,music,video,exe files\n",
    "\n",
    "How File I/O is done in most programming languages\n",
    "     Open a file\n",
    "     Read/Write data\n",
    "    Close the file\n",
    "    \n",
    "Writing to a file"
   ]
  },
  {
   "cell_type": "code",
   "execution_count": 8,
   "metadata": {},
   "outputs": [],
   "source": [
    "# case 1 - if the file is not present\n",
    "\n",
    "f = open('files/sample.txt','w')\n",
    "f.write('Hello World')\n",
    "f.close()\n",
    "# since file is closed hence this wont work\n",
    "f.write(\"Hello\")"
   ]
  },
  {
   "cell_type": "code",
   "execution_count": 9,
   "metadata": {},
   "outputs": [],
   "source": [
    "# write multiline strings\n",
    "\n",
    "f = open('files/sample1.txt','w')\n",
    "f.write('Hello World')\n",
    "f.write('\\nhow are you')\n",
    "f.close()"
   ]
  },
  {
   "cell_type": "code",
   "execution_count": 10,
   "metadata": {},
   "outputs": [],
   "source": [
    "# how exactly open() works?\n",
    "\n",
    "f = open('files/sample.txt','w')\n",
    "f.write('sasi')\n",
    "f.close()"
   ]
  },
  {
   "cell_type": "code",
   "execution_count": 12,
   "metadata": {},
   "outputs": [],
   "source": [
    "# Problem with w mode\n",
    "# introducing append mode\n",
    "\n",
    "\n",
    "f = open('files/sample1.txt','a')\n",
    "f.write('\\nI am PhD')\n",
    "f.close()"
   ]
  },
  {
   "cell_type": "code",
   "execution_count": 13,
   "metadata": {},
   "outputs": [],
   "source": [
    "# write lines\n",
    "\n",
    "L = ['Hello\\n','Hi\\n','How are you\\n','I am fine\\n']\n",
    "\n",
    "\n",
    "f = open('files/sample.txt','w')\n",
    "f.writelines(L)\n",
    "f.close()"
   ]
  },
  {
   "cell_type": "code",
   "execution_count": 15,
   "metadata": {},
   "outputs": [],
   "source": [
    "L = ['hello','Shashi']\n",
    "\n",
    "f = open('files/sample1.txt','w')\n",
    "f.writelines(L)\n",
    "f.close()\n"
   ]
  },
  {
   "cell_type": "code",
   "execution_count": 20,
   "metadata": {},
   "outputs": [
    {
     "name": "stdout",
     "output_type": "stream",
     "text": [
      "Hello Worldw are you\n",
      "I am fine\n",
      "\n"
     ]
    }
   ],
   "source": [
    "# reading from files\n",
    "# -> using read()\n",
    "\n",
    "f = open('files/sample.txt','r')\n",
    "s = f.read()\n",
    "print(s)\n",
    "f.close()"
   ]
  },
  {
   "cell_type": "code",
   "execution_count": 21,
   "metadata": {},
   "outputs": [
    {
     "name": "stdout",
     "output_type": "stream",
     "text": [
      "Hello Worl\n"
     ]
    }
   ],
   "source": [
    "# reading upto n chars\n",
    "\n",
    "f = open('files/sample.txt','r')\n",
    "s = f.read(10)\n",
    "print(s)\n",
    "f.close()"
   ]
  },
  {
   "cell_type": "code",
   "execution_count": 24,
   "metadata": {},
   "outputs": [
    {
     "name": "stdout",
     "output_type": "stream",
     "text": [
      "Hello Worldw are you\n",
      "I am fine\n",
      "\n"
     ]
    }
   ],
   "source": [
    "# readline() -> to read line by line\n",
    "f = open('files/sample.txt','r')\n",
    "print(f.readline(),end='')\n",
    "print(f.readline())\n",
    "f.close()"
   ]
  },
  {
   "cell_type": "code",
   "execution_count": 27,
   "metadata": {},
   "outputs": [
    {
     "name": "stdout",
     "output_type": "stream",
     "text": [
      "Hello Worldw are you\n",
      "I am fine\n",
      "Hey man\n",
      "hello ravi\n",
      "hi Ineuron\n"
     ]
    }
   ],
   "source": [
    "# reading entire using readline\n",
    "\n",
    "f = open('files/sample.txt','r')\n",
    "\n",
    "while True:\n",
    "    data = f.readline()\n",
    "\n",
    "    if data == '':\n",
    "        break\n",
    "    else:\n",
    "        print(data,end='')\n",
    "\n",
    "f.close()"
   ]
  },
  {
   "cell_type": "markdown",
   "metadata": {},
   "source": [
    "Using Context Manager (With)\n",
    " \n",
    "  It's a good idea to close a file after usage as it will free up the resources\n",
    "  If we dont close it, garbage collector would close it\n",
    "  with keyword closes the file as soon as the usage is over"
   ]
  },
  {
   "cell_type": "code",
   "execution_count": 28,
   "metadata": {},
   "outputs": [],
   "source": [
    "# with\n",
    "\n",
    "with open('files/sams.txt','w') as f:\n",
    "    f.write('shashi and shambhavi')"
   ]
  },
  {
   "cell_type": "code",
   "execution_count": 30,
   "metadata": {},
   "outputs": [
    {
     "name": "stdout",
     "output_type": "stream",
     "text": [
      "shashi and shambhavi\n"
     ]
    }
   ],
   "source": [
    "# try f.read() now\n",
    "\n",
    "with open('files/sams.txt','r') as f:\n",
    "    print(f.read())"
   ]
  },
  {
   "cell_type": "code",
   "execution_count": null,
   "metadata": {},
   "outputs": [],
   "source": [
    "# moving within a file -> 10 char then 10 char\n",
    "\n"
   ]
  }
 ],
 "metadata": {
  "kernelspec": {
   "display_name": "Python 3.8.10 64-bit",
   "language": "python",
   "name": "python3"
  },
  "language_info": {
   "codemirror_mode": {
    "name": "ipython",
    "version": 3
   },
   "file_extension": ".py",
   "mimetype": "text/x-python",
   "name": "python",
   "nbconvert_exporter": "python",
   "pygments_lexer": "ipython3",
   "version": "3.8.10"
  },
  "orig_nbformat": 4,
  "vscode": {
   "interpreter": {
    "hash": "e7370f93d1d0cde622a1f8e1c04877d8463912d04d973331ad4851f04de6915a"
   }
  }
 },
 "nbformat": 4,
 "nbformat_minor": 2
}
